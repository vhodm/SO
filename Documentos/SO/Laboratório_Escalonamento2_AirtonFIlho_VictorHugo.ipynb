{
 "cells": [
  {
   "cell_type": "markdown",
   "metadata": {
    "colab_type": "text",
    "id": "t1B1lQ1sXJKr"
   },
   "source": [
    "### Laboratorio de Escalonamento ###\n",
    "\n",
    "Neste laboratório, iremos simular o funcionamento de algoritmos de escalonamento básicos para entender melhor seu funcionamento.\n",
    "\n",
    "Na célula abaixo, temos uma classe Processo, que tem as informações de execução, e uma classe de exemplo de escalonamento apenas com os protótipos:\n",
    "\n",
    "(orientação a objeto em Python)"
   ]
  },
  {
   "cell_type": "markdown",
   "metadata": {
    "colab": {},
    "colab_type": "code",
    "id": "CKLCRHZhXJKs"
   },
   "source": [
    "```python\n",
    "import numpy as np\n",
    "import random\n",
    "\n",
    "class Processo(object):\n",
    "    def __init__(self,pnome,pio,ptam,prioridade,tempoChegada,bilhetes=0):\n",
    "        self.nome = pnome\n",
    "        self.io = pio # Probabilidade de fazer E/S, inicialmente zero\n",
    "        self.tam = ptam # Quantos Timeslices sao necessarios para terminar\n",
    "        self.prio = prioridade # Prioridade, eh desnecessaria agora \n",
    "        self.chegada = 0\n",
    "        \n",
    "    def roda(self,quantum=None): # se rodar sem quantum, o processor roda ate o fim\n",
    "        if(random.randint(1,100)<self.io): #Verifica se fez E/S\n",
    "            self.tam-=1\n",
    "            print(self.nome,\" fez e/s, falta \",self.tam)\n",
    "            return 1, True #True que fez E/S\n",
    "            \n",
    "            \n",
    "        if(quantum is None or self.tam<quantum):\n",
    "            quantum = self.tam\n",
    "        self.tam -=quantum\n",
    "        print(self.nome,\" rodou por \",quantum,\" timeslice, faltam \",self.tam)\n",
    "        return quantum, False # False se nao fez E/S\n",
    "    \n",
    "\n",
    "class escalonador(object): # Protótipo de escalonador de exemplo\n",
    "    def __init__(self,vprontos=[]):\n",
    "        self.prontos = vprontos #processos que cheam ao tempo zero\n",
    "\n",
    "    def pronto(self,Processo):\n",
    "        # implemente aqui o que escalonador faz quando surge um novo processo pronto\n",
    "        \n",
    "    def proximo(self):\n",
    "        # implemente aqui a politica de escalonamento para definir um processo a ser executado\n",
    "        return p #processo p eh escolhido"
   ]
  },
  {
   "cell_type": "markdown",
   "metadata": {
    "colab_type": "text",
    "id": "14846ZyfXJKx"
   },
   "source": [
    "Na célula abaixo, são criados quatro processos completamente CPU-Bound que precisam de 3 timeslices para rodar.\n",
    "\n",
    "O valor de E/S é um número entre 0 e 100 indicando quantos porcento de chance o processo tem de fazer E/S durante seu tempo na CPU"
   ]
  },
  {
   "cell_type": "markdown",
   "metadata": {
    "colab": {},
    "colab_type": "code",
    "id": "Rc4wVHA4XJKx"
   },
   "source": [
    "```python\n",
    "nprocs = 4\n",
    "nomes = ['A','B','C','D']\n",
    "chanceio = [0,0,0,0] #Valor de zero a cem, chance de ser entrada e saida por enquanto deixem em zero\n",
    "tamanho = np.array([3,3,3,3])\n",
    "\n",
    "\n",
    "total = tamanho.sum()\n",
    "\n",
    "procs = []\n",
    "for i in range(nprocs):\n",
    "    procs.append(Processo(nomes[i],chanceio[i],tamanho[i],0,0)) #cria uma lista procs de Processos"
   ]
  },
  {
   "cell_type": "markdown",
   "metadata": {
    "colab_type": "text",
    "id": "VkfIM_1iXJK0"
   },
   "source": [
    "Na célula abaixo, temos o mesmo simulador do laboratório anterior:"
   ]
  },
  {
   "cell_type": "markdown",
   "metadata": {},
   "source": [
    "```python\n",
    "\n",
    "quantum = 2\n",
    "tempoBloq = 1\n",
    "\n",
    "escalonador = escalonador(procs) #troque escalonador pelo seu escalonador\n",
    "bloqueados = []\n",
    "\n",
    "tempo = 0\n",
    "\n",
    "random.seed(0)\n",
    "\n",
    "while total>0:\n",
    "    p = escalonador.proximo()\n",
    "    if(p is not None):\n",
    "        rodou, _ = p.roda() #adicione quantum como parâmetro, por enquanto nao temos E/S\n",
    "        \n",
    "        if(p.tam>0):\n",
    "            escalonador.pronto(p)\n",
    "        total-=rodou\n",
    "        tempo+=rodou\n",
    "    else:\n",
    "        #Reduz o tempo de todos os bloqueados em uma unidade se nao havia ninguem pronto\n",
    "        tempo+=1\n",
    "```"
   ]
  },
  {
   "cell_type": "markdown",
   "metadata": {},
   "source": [
    "Nesta, temos um simulador avançado, com E/S e novos processos chegando em momentos diferentes:"
   ]
  },
  {
   "cell_type": "markdown",
   "metadata": {
    "colab": {},
    "colab_type": "code",
    "id": "7LPgBMrXXJK1"
   },
   "source": [
    "```python\n",
    "\n",
    "quantum = 2\n",
    "tempoBloq = 2\n",
    "\n",
    "escalonador = round_robin([])\n",
    "bloqueados = []\n",
    "\n",
    "\n",
    "maximo = 10\n",
    "chanceNovoProcesso = 60\n",
    "chanceIo = 30\n",
    "minTime = 4\n",
    "maxTime = 10\n",
    "\n",
    "\n",
    "contaProc = 1\n",
    "tempo = 0\n",
    "\n",
    "#descomente essa linha caso queira que os random sempre dêem o mesmo resultado\n",
    "#random.seed(0)\n",
    "\n",
    "while tempo<maximo or len(escalonador.prontos)>0:\n",
    "    \n",
    "    #Novo processo tem chanceProcesso% de chance surgir enquanto o tempo não chegar no máximo\n",
    "    if(tempo<maximo and random.randint(1,100)<chanceNovoProcesso):\n",
    "        p = Processo('P'+str(contaProc),random.randint(1,chanceIo),random.randint(minTime,maxTime),0,tempo)\n",
    "        print(\"Processo\",p.nome,\" chegou no tempo\",tempo)\n",
    "        escalonador.pronto(p)\n",
    "        contaProc+=1\n",
    "        \n",
    "\n",
    "    p = escalonador.proximo()\n",
    "    \n",
    "    if(p is not None):\n",
    "        rodou, fezio = p.roda(quantum)\n",
    "        if(fezio and p.tam>0):\n",
    "            bloqueados.append([p,tempoBloq+1]) #Adiciona o processo que fez e/s aos bloqueados\n",
    "        elif(p.tam>0):\n",
    "            escalonador.pronto(p)\n",
    "        total-=rodou\n",
    "        tempo+=rodou\n",
    "    else:\n",
    "        #Reduz o tempo de todos os bloqueados em uma unidade\n",
    "        tempo+=1\n",
    "    if(len(bloqueados)>0):\n",
    "        for i in bloqueados:\n",
    "            i[1]-=1\n",
    "            if(i[1]==0):\n",
    "                escalonador.pronto(i[0])\n",
    "                del i  "
   ]
  },
  {
   "cell_type": "markdown",
   "metadata": {
    "colab_type": "text",
    "id": "l-WBMAKhXJK4"
   },
   "source": [
    "### Laboratório: ###\n",
    "\n",
    "Neste laboratório vocês (em duplas) irão implementar 3 escalonadores:\n",
    "\n",
    "1 - MLFQ: Adicione parâmetros para definir o número de filas, o quantum de cada uma e o tempo de boost.\n",
    "\n",
    "2 - Loteria: tem um atributo `prioridade` no Processo, use ele para definir um número aleatório de bilhetes, similar ao que ocorre com e/s e outros parämetros\n",
    "\n",
    "3 - Stride: Similar ao loteria.\n",
    "\n"
   ]
  },
  {
   "cell_type": "code",
   "execution_count": 33,
   "metadata": {},
   "outputs": [],
   "source": [
    "import numpy as np\n",
    "import random\n",
    "\n",
    "class Processo(object):\n",
    "    def __init__(self,pnome,pio,ptam,prioridade,tempoChegada):\n",
    "        self.nome = pnome\n",
    "        self.io = pio # Probabilidade de fazer E/S, inicialmente zero\n",
    "        self.tam = ptam # Quantos Timeslices sao necessarios para terminar\n",
    "        self.prioridade = prioridade # Prioridade, eh desnecessaria agora \n",
    "        self.chegada = 0\n",
    "\n",
    "\n",
    "    def roda(self,quantum=None): # se rodar sem quantum, o processo roda ate o fim\n",
    "        if(random.randint(1,100)<self.io): #Verifica se fez E/S\n",
    "            self.tam-=1\n",
    "            print(self.nome,\" fez e/s, falta \",self.tam)\n",
    "            return 1, True #True que fez E/S\n",
    "            \n",
    "            \n",
    "        if(quantum is None or self.tam<quantum):\n",
    "            quantum = self.tam\n",
    "        self.tam -=quantum\n",
    "        print(self.nome,\" rodou por \",quantum,\" timeslice, faltam \",self.tam)\n",
    "        return quantum, False # False se nao fez E/S"
   ]
  },
  {
   "cell_type": "code",
   "execution_count": 34,
   "metadata": {},
   "outputs": [],
   "source": [
    "class EscalonadorMLFQ(object):\n",
    "    def __init__(self, n_filas, quantums, tempo_boost):\n",
    "        self.n_filas = n_filas\n",
    "        self.quantums = quantums\n",
    "        self.tempo_boost = tempo_boost\n",
    "        self.filas = [[] for _ in range(n_filas)]\n",
    "        self.tempo_total = 0\n",
    "\n",
    "    def pronto(self, processo):\n",
    "        processo.nivel = getattr(processo, 'nivel', 0)\n",
    "        self.filas[processo.nivel].append(processo)\n",
    "\n",
    "    def proximo(self):\n",
    "        self.tempo_total += 1\n",
    "        if self.tempo_total % self.tempo_boost == 0:\n",
    "            self._boost()\n",
    "\n",
    "        for i in range(self.n_filas):\n",
    "            if self.filas[i]:\n",
    "                p = self.filas[i].pop(0)\n",
    "                p.quantum = self.quantums[i]\n",
    "                return p\n",
    "        return None\n",
    "\n",
    "    def _boost(self):\n",
    "        todos_procs = []\n",
    "        for fila in self.filas:\n",
    "            todos_procs.extend(fila)\n",
    "            fila.clear()\n",
    "        for p in todos_procs:\n",
    "            p.nivel = 0\n",
    "            self.filas[0].append(p)\n"
   ]
  },
  {
   "cell_type": "code",
   "execution_count": 35,
   "metadata": {},
   "outputs": [],
   "source": [
    "class EscalonadorLoteria(object):\n",
    "    def __init__(self, procs=[]):\n",
    "        self.procs = procs.copy()\n",
    "\n",
    "    def pronto(self, processo):\n",
    "        self.procs.append(processo)\n",
    "\n",
    "    def proximo(self):\n",
    "        if not self.procs:\n",
    "            return None\n",
    "\n",
    "        total_tickets = sum(p.prioridade for p in self.procs)\n",
    "        sorteado = random.randint(1, total_tickets)\n",
    "        acumulado = 0\n",
    "\n",
    "        for p in self.procs:\n",
    "            acumulado += p.prioridade\n",
    "            if acumulado >= sorteado:\n",
    "                self.procs.remove(p)\n",
    "                return p\n"
   ]
  },
  {
   "cell_type": "code",
   "execution_count": 36,
   "metadata": {},
   "outputs": [],
   "source": [
    "class EscalonadorStride(object):\n",
    "    def __init__(self):\n",
    "        self.procs = []\n",
    "\n",
    "    def pronto(self, processo):\n",
    "        processo.stride = getattr(processo, 'stride', 0)\n",
    "        processo.pass_value = getattr(processo, 'pass_value', 0)\n",
    "        processo.ticket = processo.prioridade\n",
    "        processo.stride = 10000 // processo.ticket\n",
    "        self.procs.append(processo)\n",
    "\n",
    "    def proximo(self):\n",
    "        if not self.procs:\n",
    "            return None\n",
    "        self.procs.sort(key=lambda p: p.pass_value)\n",
    "        p = self.procs.pop(0)\n",
    "        p.pass_value += p.stride\n",
    "        return p\n"
   ]
  },
  {
   "cell_type": "code",
   "execution_count": null,
   "metadata": {},
   "outputs": [],
   "source": [
    "def simulador_basico(escalonador, procs, total, tempo_limite, quantum=2, tempo_bloq=1, seed=):\n",
    "    bloqueados = []\n",
    "    tempo = 0\n",
    "\n",
    "    if seed is not None:\n",
    "        random.seed(seed)\n",
    "\n",
    "    # Colocando todos os processos na fila de prontos\n",
    "    for p in procs:\n",
    "        escalonador.pronto(p)\n",
    "\n",
    "    while total > 0 and tempo < tempo_limite:  # Adicionando a condição de tempo limite\n",
    "        p = escalonador.proximo()\n",
    "        if p is not None:\n",
    "            rodou, _ = p.roda(quantum)  # Rodando o processo com o quantum\n",
    "            if p.tam > 0:\n",
    "                escalonador.pronto(p)\n",
    "            total -= rodou\n",
    "            tempo += rodou\n",
    "        else:\n",
    "            # Reduz o tempo de todos os bloqueados (se houvesse)\n",
    "            tempo += 1\n",
    "\n",
    "    if tempo >= tempo_limite:\n",
    "        print(\"Limite de tempo alcançado!\")\n",
    "    else:\n",
    "        print(\"Simulação finalizada em\", tempo, \"unidades de tempo.\")\n",
    "    \n",
    "    return tempo"
   ]
  },
  {
   "cell_type": "code",
   "execution_count": 38,
   "metadata": {},
   "outputs": [],
   "source": [
    "def simulador_avancado(escalonador, quantum=2, tempo_bloq=2, maximo=10, chance_novo_processo=60, chance_io=30, min_time=4, max_time=10, seed=None):\n",
    "    bloqueados = []\n",
    "    conta_proc = 1\n",
    "    tempo = 0\n",
    "    total = 0\n",
    "\n",
    "    if seed is not None:\n",
    "        random.seed(seed)\n",
    "\n",
    "    while tempo < maximo or len(escalonador.prontos) > 0 or len(bloqueados) > 0:\n",
    "        # Novo processo com chance_novo_processo%\n",
    "        if tempo < maximo and random.randint(1, 100) < chance_novo_processo:\n",
    "            p = Processo(\n",
    "                'P' + str(conta_proc),\n",
    "                random.randint(1, chance_io),\n",
    "                random.randint(min_time, max_time),\n",
    "                0,\n",
    "                tempo\n",
    "            )\n",
    "            print(f\"Processo {p.nome} chegou no tempo {tempo}\")\n",
    "            escalonador.pronto(p)\n",
    "            conta_proc += 1\n",
    "            total += p.tam\n",
    "\n",
    "        p = escalonador.proximo()\n",
    "\n",
    "        if p is not None:\n",
    "            rodou, fez_io = p.roda(quantum)\n",
    "            if fez_io and p.tam > 0:\n",
    "                bloqueados.append([p, tempo_bloq + 1])\n",
    "            elif p.tam > 0:\n",
    "                escalonador.pronto(p)\n",
    "            total -= rodou\n",
    "            tempo += rodou\n",
    "        else:\n",
    "            tempo += 1  # tempo passa se ninguém pronto\n",
    "\n",
    "        # Atualiza bloqueados\n",
    "        desbloquear = []\n",
    "        for b in bloqueados:\n",
    "            b[1] -= 1\n",
    "            if b[1] == 0:\n",
    "                escalonador.pronto(b[0])\n",
    "                desbloquear.append(b)\n",
    "        for b in desbloquear:\n",
    "            bloqueados.remove(b)\n",
    "\n",
    "    print(\"Simulação finalizada em\", tempo, \"unidades de tempo.\")\n",
    "    return tempo\n"
   ]
  },
  {
   "cell_type": "markdown",
   "metadata": {
    "colab_type": "text",
    "id": "G5T25EzaXJK5"
   },
   "source": [
    "## Responda ##\n",
    "\n",
    "#### Sobre Loteria: ####\n",
    "\n",
    "1 - Rode a simulação mais simples com apenas dois processos, um com 100 tickets e outro com 1, com tempo 100 para terminar. O que aconteceu? O segundo processo conseguiu rodar alguma vez? Testando com outras sementes o resultado se manteve?\n",
    "\n",
    "2 - Rode a simulação simples com dois processos com 100 tickets e 100 timeslices. Calcule a Unfairness para quantum=2. Repita a operação para quantum 10, 20, 50 e 100. O que aconteceu?\n",
    "\n",
    "3 - Rode novamente dois processos com 100 tickets no simulador simples e quantum=2. Calcule a unfairness conforme o tamanho dos processos aumenta e faça um gráfico similar ao dos slides.\n",
    "\n",
    "4 - Rode o simulador maior com três tipos de processo possíveis: um com 10 tickets, um com 20 e um com 50. O que aconteceu com os que receberam menos tickets? Eles tiveram chance de rodar?"
   ]
  },
  {
   "cell_type": "code",
   "execution_count": 49,
   "metadata": {
    "colab": {},
    "colab_type": "code",
    "id": "BlxysVYbuuDX"
   },
   "outputs": [
    {
     "name": "stdout",
     "output_type": "stream",
     "text": [
      "A  rodou por  2  timeslice, faltam  98\n",
      "A  rodou por  2  timeslice, faltam  96\n",
      "A  rodou por  2  timeslice, faltam  94\n",
      "A  rodou por  2  timeslice, faltam  92\n",
      "A  rodou por  2  timeslice, faltam  90\n",
      "A  rodou por  2  timeslice, faltam  88\n",
      "A  rodou por  2  timeslice, faltam  86\n",
      "A  rodou por  2  timeslice, faltam  84\n",
      "A  rodou por  2  timeslice, faltam  82\n",
      "A  rodou por  2  timeslice, faltam  80\n",
      "A  rodou por  2  timeslice, faltam  78\n",
      "A  rodou por  2  timeslice, faltam  76\n",
      "A  rodou por  2  timeslice, faltam  74\n",
      "A  rodou por  2  timeslice, faltam  72\n",
      "A  rodou por  2  timeslice, faltam  70\n",
      "A  rodou por  2  timeslice, faltam  68\n",
      "A  rodou por  2  timeslice, faltam  66\n",
      "A  rodou por  2  timeslice, faltam  64\n",
      "A  rodou por  2  timeslice, faltam  62\n",
      "A  rodou por  2  timeslice, faltam  60\n",
      "A  rodou por  2  timeslice, faltam  58\n",
      "A  rodou por  2  timeslice, faltam  56\n",
      "A  rodou por  2  timeslice, faltam  54\n",
      "A  rodou por  2  timeslice, faltam  52\n",
      "A  rodou por  2  timeslice, faltam  50\n",
      "A  rodou por  2  timeslice, faltam  48\n",
      "A  rodou por  2  timeslice, faltam  46\n",
      "A  rodou por  2  timeslice, faltam  44\n",
      "A  rodou por  2  timeslice, faltam  42\n",
      "A  rodou por  2  timeslice, faltam  40\n",
      "A  rodou por  2  timeslice, faltam  38\n",
      "A  rodou por  2  timeslice, faltam  36\n",
      "A  rodou por  2  timeslice, faltam  34\n",
      "A  rodou por  2  timeslice, faltam  32\n",
      "A  rodou por  2  timeslice, faltam  30\n",
      "A  rodou por  2  timeslice, faltam  28\n",
      "A  rodou por  2  timeslice, faltam  26\n",
      "A  rodou por  2  timeslice, faltam  24\n",
      "A  rodou por  2  timeslice, faltam  22\n",
      "A  rodou por  2  timeslice, faltam  20\n",
      "A  rodou por  2  timeslice, faltam  18\n",
      "A  rodou por  2  timeslice, faltam  16\n",
      "A  rodou por  2  timeslice, faltam  14\n",
      "A  rodou por  2  timeslice, faltam  12\n",
      "A  rodou por  2  timeslice, faltam  10\n",
      "A  rodou por  2  timeslice, faltam  8\n",
      "A  rodou por  2  timeslice, faltam  6\n",
      "A  rodou por  2  timeslice, faltam  4\n",
      "A  rodou por  2  timeslice, faltam  2\n",
      "A  rodou por  2  timeslice, faltam  0\n",
      "Limite de tempo alcançado!\n"
     ]
    },
    {
     "data": {
      "text/plain": [
       "100"
      ]
     },
     "execution_count": 49,
     "metadata": {},
     "output_type": "execute_result"
    }
   ],
   "source": [
    "# Definição dos processos\n",
    "nprocs = 2\n",
    "nomes = ['A','B']\n",
    "tickets = [100,1]\n",
    "tamanho = np.array([100,100])\n",
    "chanceio = [0,0]\n",
    "\n",
    "total = tamanho.sum()\n",
    "\n",
    "procs = []\n",
    "for i in range(nprocs):\n",
    "    p = Processo(nomes[i], chanceio[i], tamanho[i], tickets[i], 0)\n",
    "    procs.append(p)\n",
    "\n",
    "# Simulação com Loteria\n",
    "escalonador = EscalonadorLoteria(procs)\n",
    "simulador_basico(escalonador, procs, total, tempo_limite=100)"
   ]
  },
  {
   "cell_type": "markdown",
   "metadata": {},
   "source": [
    "R: Como o processo A tinha 100 tickets e B apenas 1, acabou que B teve uma competição desvantajosa, ainda mais com a linha de semente aleatória comentada. Se random.seed for descomentada, o processo B apenas rodará ao final, ainda mais com semente = 0. "
   ]
  },
  {
   "cell_type": "markdown",
   "metadata": {},
   "source": [
    "#### Sobre Stride ####\n",
    "\n",
    "1 - Repita o cenário da 2 de loteria e faça um novo gráfico.\n",
    "\n",
    "2 - No simulador maior, qual o efeito que ter muitos processos fazendo E/S tem no algoritmo? O que pode ser feito com a posição do processo quando ele volta de E/S?\n",
    "\n",
    "3 - No simulador maior, rode um cenário igual para stride e loteria (com a mesma semente aleatória) e calcule tempo de resposta, de execução e __tempo de espera__ (tempo que o processo passou pronto). O que mudou entre os dois?"
   ]
  },
  {
   "cell_type": "code",
   "execution_count": null,
   "metadata": {},
   "outputs": [],
   "source": []
  },
  {
   "cell_type": "markdown",
   "metadata": {},
   "source": [
    "#### Sobre MLFQ ####\n",
    "\n",
    "1 - Rode o MLFQ no segundo simulador com duas filas e sem boost. O que aconteceu? \n",
    "\n",
    "2 - Quais configurações de parâmetros transformam o MLFQ no Round Robin?\n",
    "\n",
    "3 - Rodando no primeiro simulador, faça 1 dos quatro processos ser 100\\% CPU-Bound e os outros três 60\\% I/O Bound. Use a configuração com 3 filas, com 5, 3 e 1 timeslices para as fila em ordem de priorida. De quanto tempo deve ser o Boost para que o processo CPU-Bound não sofra starvation e tenha CPU 1 vez a cada 20 timeslices?\n",
    "\n",
    "4 - Teste diversas configurações de número de filas, quantum das filas e boost no simulador maior e ache a que leva ao melhor tempo de execução."
   ]
  },
  {
   "cell_type": "code",
   "execution_count": null,
   "metadata": {},
   "outputs": [],
   "source": []
  }
 ],
 "metadata": {
  "colab": {
   "name": "Laboratório Escalonamento.ipynb",
   "provenance": []
  },
  "kernelspec": {
   "display_name": "SO",
   "language": "python",
   "name": "python3"
  },
  "language_info": {
   "codemirror_mode": {
    "name": "ipython",
    "version": 3
   },
   "file_extension": ".py",
   "mimetype": "text/x-python",
   "name": "python",
   "nbconvert_exporter": "python",
   "pygments_lexer": "ipython3",
   "version": "3.12.3"
  }
 },
 "nbformat": 4,
 "nbformat_minor": 1
}
