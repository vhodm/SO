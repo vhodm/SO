{
  "cells": [
    {
      "cell_type": "markdown",
      "metadata": {},
      "source": [
        "# Laboratório 01: Escalonamento\n",
        "\n",
        "## Universidade Federal do Amazonas (UFAM)\n",
        "### Instituto de Computação (IComp)\n",
        "\n",
        "Disciplina: Sistemas Operacionais\n",
        "\n",
        "Professor: André Carvalho\n",
        "\n",
        "Alunos: Airton Filho e Victor Hugo\n",
        "\n",
        "---"
      ]
    },
    {
      "cell_type": "markdown",
      "metadata": {
        "colab_type": "text",
        "id": "t1B1lQ1sXJKr"
      },
      "source": [
        "### Laboratorio de Escalonamento ###\n",
        "\n",
        "Neste laboratório, iremos simular o funcionamento de algoritmos de escalonamento básicos para entender melhor seu funcionamento.\n",
        "\n",
        "Na célula abaixo, temos uma classe Processo, que tem as informações de execução, e uma classe de exemplo de escalonamento apenas com os protótipos:\n",
        "\n",
        "(orientação a objeto em Python)"
      ]
    },
    {
      "cell_type": "markdown",
      "metadata": {
        "colab": {},
        "colab_type": "code",
        "id": "CKLCRHZhXJKs"
      },
      "source": [
        "```python\n",
        "\n",
        "import numpy as np\n",
        "import random\n",
        "\n",
        "class Processo(object):\n",
        "    def __init__(self,pnome,pio,ptam,prioridade,tempoChegada):\n",
        "        self.nome = pnome\n",
        "        self.io = pio # Probabilidade de fazer E/S, inicialmente zero\n",
        "        self.tam = ptam # Quantos Timeslices sao necessarios para terminar\n",
        "        self.prio = prioridade # Prioridade, eh desnecessaria agora \n",
        "        self.chegada = 0\n",
        "\n",
        "    def roda(self,quantum=None): # se rodar sem quantum, o processor roda ate o fim\n",
        "        if(random.randint(1,100)<self.io): #Verifica se fez E/S\n",
        "            self.tam-=1\n",
        "            print(self.nome,\" fez e/s, falta \",self.tam)\n",
        "            return 1, True #True que fez E/S\n",
        "            \n",
        "            \n",
        "        if(quantum is None or self.tam<quantum):\n",
        "            quantum = self.tam\n",
        "        self.tam -=quantum\n",
        "        print(self.nome,\" rodou por \",quantum,\" timeslice, faltam \",self.tam)\n",
        "        return quantum, False # False se nao fez E/S\n",
        "    \n",
        "\n",
        "class escalonador(object): # Protótipo de escalonador de exemplo\n",
        "    def __init__(self,vprontos=[]):\n",
        "        self.prontos = vprontos #processos que cheam ao tempo zero\n",
        "\n",
        "    def pronto(self,Processo):\n",
        "        print\n",
        "        # implemente aqui o que escalonador faz quando surge um novo processo pronto\n",
        "\n",
        "        \n",
        "    def proximo(self):\n",
        "        # implemente aqui a politica de escalonamento para definir um processo a ser executado\n",
        "        return p #processo p eh escolhido\n",
        "```"
      ]
    },
    {
      "cell_type": "markdown",
      "metadata": {
        "colab_type": "text",
        "id": "14846ZyfXJKx"
      },
      "source": [
        "---\n",
        "\n",
        "Na célula abaixo, são criados quatro processos completamente CPU-Bound que precisam de 3 timeslices para rodar.\n",
        "\n",
        "O valor de E/S é um número entre 0 e 100 indicando quantos porcento de chance o processo tem de fazer E/S durante seu tempo na CPU"
      ]
    },
    {
      "cell_type": "markdown",
      "metadata": {
        "colab": {},
        "colab_type": "code",
        "id": "Rc4wVHA4XJKx"
      },
      "source": [
        "```python\n",
        "nprocs = 4\n",
        "nomes = ['A','B','C','D']\n",
        "chanceio = [0,0,0,0]  # Valor de zero a cem, chance de ser entrada/saída — por enquanto deixem em zero\n",
        "tamanho = np.array([3,3,3,3])\n",
        "\n",
        "total = tamanho.sum()\n",
        "\n",
        "procs = []\n",
        "for i in range(nprocs):\n",
        "    procs.append(Processo(nomes[i], chanceio[i], tamanho[i], 0, 0))  # Cria uma lista procs de Processos\n",
        "```"
      ]
    },
    {
      "cell_type": "markdown",
      "metadata": {
        "colab_type": "text",
        "id": "VkfIM_1iXJK0"
      },
      "source": [
        "Na célula abaixo, temos uma simulação do funcionamento de um escalonador de processos. As duas configurações importantes aqui são o valor do quantum padrão (que pode ser dinamico em algoritmos mais complexos, e quantos timeslices um processo que faz e/s passa bloqueado.\n",
        "\n",
        "Percebam que na terceira linha é instanciado o escalonador (neste caso, um round_robin). Isto foi feito assim para ser simples trocar o escalonador e repetir a simulação, bastando criar uma classe com os métodos pronto, proximo e construtor e alterar esta linha.\n",
        "\n",
        "---"
      ]
    },
    {
      "cell_type": "markdown",
      "metadata": {
        "colab": {},
        "colab_type": "code",
        "id": "7LPgBMrXXJK1"
      },
      "source": [
        "```python\n",
        "quantum = 2\n",
        "tempoBloq = 1\n",
        "\n",
        "escalonador = escalonador(procs) #troque escalonador pelo seu escalonador\n",
        "bloqueados = []\n",
        "\n",
        "tempo = 0\n",
        "\n",
        "random.seed(0)\n",
        "\n",
        "while total>0:\n",
        "    p = escalonador.proximo()\n",
        "    if(p is not None):\n",
        "        rodou, _ = p.roda() #adicione quantum como parâmetro, por enquanto nao temos E/S\n",
        "        \n",
        "        if(p.tam>0):\n",
        "            escalonador.pronto(p)\n",
        "        total-=rodou\n",
        "        tempo+=rodou\n",
        "    else:\n",
        "        #Reduz o tempo de todos os bloqueados em uma unidade se nao havia ninguem pronto\n",
        "        tempo+=1\n",
        "```\n",
        "\n",
        "---"
      ]
    },
    {
      "cell_type": "markdown",
      "metadata": {
        "colab_type": "text",
        "id": "l-WBMAKhXJK4"
      },
      "source": [
        "# Laboratório:\n",
        "\n",
        "\n",
        "1 - Altere o simulador acima para calcular o tempo de execucao medio e tempo de resposta \n",
        "\n",
        "2 - Implemente o escalonador por FIFO e SJF e verifique seus tempos de execução e espera.\n",
        "\n",
        "3 - Faça em outra célula uma implementação do STCF e Round Robin, alterando o p.roda() para receber o quantum\n"
      ]
    },
    {
      "cell_type": "markdown",
      "metadata": {
        "colab_type": "text",
        "id": "G5T25EzaXJK5"
      },
      "source": [
        "Na segunda feira (15) haverá um questionário no ColabWeb onde você deverá utilizar suas implementações para responder às perguntas. Na terça de manhã farei uma breve conferência para tirar dúvidas."
      ]
    },
    {
      "cell_type": "code",
      "execution_count": null,
      "metadata": {},
      "outputs": [],
      "source": [
        "import numpy as np\n",
        "import random\n",
        "\n",
        "class Processo(object):\n",
        "    def __init__(self,pnome,pio,ptam,prioridade,tempoChegada):\n",
        "        self.nome = pnome\n",
        "        self.io = pio # Probabilidade de fazer E/S, inicialmente zero\n",
        "        self.tam = ptam # Quantos Timeslices sao necessarios para terminar\n",
        "        self.prio = prioridade # Prioridade, eh desnecessaria agora \n",
        "        self.chegada = 0\n",
        "\n",
        "\n",
        "    # def roda modificado para receber com quantum. por padrão, se não tiver nenhum quanto ele o define como None\n",
        "    # tal implementação também atende aos escalonadores fifo e SJF, q n usam quantum\n",
        "    def roda(self,quantum=None): # se rodar sem quantum, o processo roda ate o fim\n",
        "        if(random.randint(1,100)<self.io): #Verifica se fez E/S\n",
        "            self.tam-=1\n",
        "            print(self.nome,\" fez e/s, falta \",self.tam)\n",
        "            return 1, True #True que fez E/S\n",
        "            \n",
        "            \n",
        "        if(quantum is None or self.tam<quantum):\n",
        "            quantum = self.tam\n",
        "        self.tam -=quantum\n",
        "        print(self.nome,\" rodou por \",quantum,\" timeslice, faltam \",self.tam)\n",
        "        return quantum, False # False se nao fez E/S"
      ]
    },
    {
      "cell_type": "code",
      "execution_count": 26,
      "metadata": {},
      "outputs": [],
      "source": [
        "class EscalonadorFIFO:\n",
        "    def __init__(self, vprontos=[]):\n",
        "        self.prontos = vprontos.copy()  # cópia da lista original\n",
        "\n",
        "    def pronto(self, processo):\n",
        "        self.prontos.append(processo)\n",
        "\n",
        "    def proximo(self):\n",
        "        if len(self.prontos) > 0:\n",
        "            return self.prontos.pop(0)\n",
        "        return None"
      ]
    },
    {
      "cell_type": "code",
      "execution_count": 27,
      "metadata": {},
      "outputs": [],
      "source": [
        "class EscalonadorSJF:\n",
        "    def __init__(self, vprontos=[]):\n",
        "        self.prontos = vprontos.copy()\n",
        "\n",
        "    def pronto(self, processo):\n",
        "        self.prontos.append(processo)\n",
        "        self.prontos.sort(key=lambda p: p.tam)  # menor primeiro\n",
        "\n",
        "    def proximo(self):\n",
        "        if len(self.prontos) > 0:\n",
        "            return self.prontos.pop(0)\n",
        "        return None\n"
      ]
    },
    {
      "cell_type": "code",
      "execution_count": 28,
      "metadata": {},
      "outputs": [],
      "source": [
        "class EscalonadorSTCF:\n",
        "    def __init__(self, vprontos=[]):\n",
        "        self.prontos = vprontos.copy()\n",
        "\n",
        "    def pronto(self, processo):\n",
        "        self.prontos.append(processo)\n",
        "        self.prontos.sort(key=lambda p: p.tam)  # ordena a cada novo processo\n",
        "\n",
        "    def proximo(self):\n",
        "        if self.prontos:\n",
        "            return self.prontos.pop(0)\n",
        "        return None\n"
      ]
    },
    {
      "cell_type": "code",
      "execution_count": 29,
      "metadata": {},
      "outputs": [],
      "source": [
        "# round-robin\n",
        "\n",
        "class EscalonadorRR:\n",
        "    def __init__(self, vprontos=None, quantum=2):  # Agora recebendo o parâmetro quantum\n",
        "        if vprontos is None:\n",
        "            vprontos = []\n",
        "        self.prontos = vprontos.copy()\n",
        "        self.quantum = quantum  # Inicializa a variável quantum\n",
        "\n",
        "    def pronto(self, processo):\n",
        "        self.prontos.append(processo)\n",
        "\n",
        "    def proximo(self):\n",
        "        if self.prontos:\n",
        "            return self.prontos.pop(0)\n",
        "        return None\n"
      ]
    },
    {
      "cell_type": "code",
      "execution_count": 30,
      "metadata": {},
      "outputs": [],
      "source": [
        "def simular(escalonador, processos, quantum=2, usa_quantum=True):\n",
        "    tempo = 0\n",
        "    total = sum(p.tam for p in processos)\n",
        "    \n",
        "    tempo_inicio = {}  # resposta\n",
        "    tempo_final = {}   # turnaround\n",
        "    tempo_resposta = {}\n",
        "    \n",
        "    fila_espera = {p.nome: 0 for p in processos}\n",
        "\n",
        "    random.seed(0)\n",
        "\n",
        "    while total > 0:\n",
        "        p = escalonador.proximo()\n",
        "\n",
        "        if p is not None and p.tam > 0:\n",
        "            # tempo de resposta\n",
        "            if p.nome not in tempo_inicio:\n",
        "                tempo_inicio[p.nome] = tempo\n",
        "                tempo_resposta[p.nome] = tempo - p.chegada\n",
        "\n",
        "            # roda com ou sem quantum\n",
        "            q = quantum if usa_quantum else None\n",
        "            rodou, _ = p.roda(q)\n",
        "\n",
        "            total -= rodou\n",
        "            tempo += rodou\n",
        "\n",
        "            # atualiza tempo de espera dos outros\n",
        "            for outro in processos:\n",
        "                if outro.nome != p.nome and outro.tam > 0:\n",
        "                    fila_espera[outro.nome] += rodou\n",
        "\n",
        "            # reinserir se não terminou\n",
        "            if p.tam > 0:\n",
        "                escalonador.pronto(p)\n",
        "            else:\n",
        "                tempo_final[p.nome] = tempo\n",
        "        else:\n",
        "            tempo += 1\n",
        "\n",
        "    # cálculo das métricas\n",
        "    tempos_execucao = {p.nome: tempo_final[p.nome] - p.chegada for p in processos}\n",
        "    tempos_espera = fila_espera\n",
        "\n",
        "    print(\"\\n--- Métricas por Processo ---\")\n",
        "    for p in processos:\n",
        "        print(f\"{p.nome} -> Resposta: {tempo_resposta[p.nome]}, Espera: {tempos_espera[p.nome]}, Execução: {tempos_execucao[p.nome]}\")\n",
        "\n",
        "    media_resposta = sum(tempo_resposta.values()) / len(processos)\n",
        "    media_espera = sum(tempos_espera.values()) / len(processos)\n",
        "    media_execucao = sum(tempos_execucao.values()) / len(processos)\n",
        "\n",
        "    print(f\"\\nTempo médio de resposta: {media_resposta:.2f}\")\n",
        "    print(f\"Tempo médio de espera:   {media_espera:.2f}\")\n",
        "    print(f\"Tempo médio de execução: {media_execucao:.2f}\")\n",
        "\n",
        "    return tempo_resposta, tempos_espera, tempos_execucao\n"
      ]
    },
    {
      "cell_type": "markdown",
      "metadata": {},
      "source": [
        "---"
      ]
    },
    {
      "cell_type": "markdown",
      "metadata": {},
      "source": [
        "# Questionário 01\n",
        "\n",
        "Dado um workload de 5 processos de tamanho 20, calcule o tempo de execução do escalonador FIFO:\n",
        "\n",
        "Dado um workload de 5 processos de tamanho 20, calcule o tempo de resposta do escalonador FIFO:"
      ]
    },
    {
      "cell_type": "code",
      "execution_count": 23,
      "metadata": {},
      "outputs": [
        {
          "name": "stdout",
          "output_type": "stream",
          "text": [
            "A  rodou por  20  timeslice, faltam  0\n",
            "B  rodou por  20  timeslice, faltam  0\n",
            "C  rodou por  20  timeslice, faltam  0\n",
            "D  rodou por  20  timeslice, faltam  0\n",
            "E  rodou por  20  timeslice, faltam  0\n",
            "\n",
            "--- Métricas por Processo ---\n",
            "A -> Resposta: 0, Espera: 0, Execução: 20\n",
            "B -> Resposta: 20, Espera: 20, Execução: 40\n",
            "C -> Resposta: 40, Espera: 40, Execução: 60\n",
            "D -> Resposta: 60, Espera: 60, Execução: 80\n",
            "E -> Resposta: 80, Espera: 80, Execução: 100\n",
            "\n",
            "Tempo médio de resposta: 40.00\n",
            "Tempo médio de espera:   40.00\n",
            "Tempo médio de execução: 60.00\n"
          ]
        },
        {
          "data": {
            "text/plain": [
              "({'A': 0, 'B': 20, 'C': 40, 'D': 60, 'E': 80},\n",
              " {'A': 0, 'B': 20, 'C': 40, 'D': 60, 'E': 80},\n",
              " {'A': 20, 'B': 40, 'C': 60, 'D': 80, 'E': 100})"
            ]
          },
          "execution_count": 23,
          "metadata": {},
          "output_type": "execute_result"
        }
      ],
      "source": [
        "# Setup\n",
        "nomes = ['A', 'B', 'C', 'D', 'E']\n",
        "tamanho = [20] * 5\n",
        "chanceio = [0] * 5\n",
        "procs = [Processo(nomes[i], chanceio[i], tamanho[i], 0, 0) for i in range(5)]\n",
        "\n",
        "# Simulação FIFO\n",
        "fifo = EscalonadorFIFO(procs.copy())\n",
        "simular(fifo, procs.copy(), usa_quantum=False)"
      ]
    },
    {
      "cell_type": "markdown",
      "metadata": {},
      "source": [
        "---\n",
        "\n",
        "Dado um workload de 5 processos de tamanho 20, calcule o tempo de execução do escalonador SJF:\n",
        "\n",
        "Dado um workload de 5 processos de tamanho 20, calcule o tempo de resposta do escalonador SJF:"
      ]
    },
    {
      "cell_type": "code",
      "execution_count": 15,
      "metadata": {},
      "outputs": [
        {
          "name": "stdout",
          "output_type": "stream",
          "text": [
            "A  rodou por  20  timeslice, faltam  0\n",
            "B  rodou por  20  timeslice, faltam  0\n",
            "C  rodou por  20  timeslice, faltam  0\n",
            "D  rodou por  20  timeslice, faltam  0\n",
            "E  rodou por  20  timeslice, faltam  0\n",
            "\n",
            "--- Métricas por Processo ---\n",
            "A -> Resposta: 0, Espera: 0, Execução: 20\n",
            "B -> Resposta: 20, Espera: 20, Execução: 40\n",
            "C -> Resposta: 40, Espera: 40, Execução: 60\n",
            "D -> Resposta: 60, Espera: 60, Execução: 80\n",
            "E -> Resposta: 80, Espera: 80, Execução: 100\n",
            "\n",
            "Tempo médio de resposta: 40.00\n",
            "Tempo médio de espera:   40.00\n",
            "Tempo médio de execução: 60.00\n"
          ]
        },
        {
          "data": {
            "text/plain": [
              "({'A': 0, 'B': 20, 'C': 40, 'D': 60, 'E': 80},\n",
              " {'A': 0, 'B': 20, 'C': 40, 'D': 60, 'E': 80},\n",
              " {'A': 20, 'B': 40, 'C': 60, 'D': 80, 'E': 100})"
            ]
          },
          "execution_count": 15,
          "metadata": {},
          "output_type": "execute_result"
        }
      ],
      "source": [
        "# Setup\n",
        "nomes = ['A', 'B', 'C', 'D', 'E']\n",
        "tamanho = [20] * 5\n",
        "chanceio = [0] * 5\n",
        "procs = [Processo(nomes[i], chanceio[i], tamanho[i], 0, 0) for i in range(5)]\n",
        "\n",
        "sjf = EscalonadorSJF(procs.copy())\n",
        "simular(sjf, procs.copy(), usa_quantum=False)\n"
      ]
    },
    {
      "cell_type": "markdown",
      "metadata": {},
      "source": [
        "---\n",
        "\n",
        "Dado um workload de 5 processos de tamanho 20, calcule o tempo de execução do escalonador Round Robin com quantum=2:\n",
        "\n",
        "Dado um workload de 5 processos de tamanho 20, calcule o tempo de resposta do escalonador Round Robin com quantum=2:\n",
        "\n"
      ]
    },
    {
      "cell_type": "code",
      "execution_count": 16,
      "metadata": {},
      "outputs": [
        {
          "name": "stdout",
          "output_type": "stream",
          "text": [
            "A  rodou por  2  timeslice, faltam  18\n",
            "B  rodou por  2  timeslice, faltam  18\n",
            "C  rodou por  2  timeslice, faltam  18\n",
            "D  rodou por  2  timeslice, faltam  18\n",
            "E  rodou por  2  timeslice, faltam  18\n",
            "A  rodou por  2  timeslice, faltam  16\n",
            "B  rodou por  2  timeslice, faltam  16\n",
            "C  rodou por  2  timeslice, faltam  16\n",
            "D  rodou por  2  timeslice, faltam  16\n",
            "E  rodou por  2  timeslice, faltam  16\n",
            "A  rodou por  2  timeslice, faltam  14\n",
            "B  rodou por  2  timeslice, faltam  14\n",
            "C  rodou por  2  timeslice, faltam  14\n",
            "D  rodou por  2  timeslice, faltam  14\n",
            "E  rodou por  2  timeslice, faltam  14\n",
            "A  rodou por  2  timeslice, faltam  12\n",
            "B  rodou por  2  timeslice, faltam  12\n",
            "C  rodou por  2  timeslice, faltam  12\n",
            "D  rodou por  2  timeslice, faltam  12\n",
            "E  rodou por  2  timeslice, faltam  12\n",
            "A  rodou por  2  timeslice, faltam  10\n",
            "B  rodou por  2  timeslice, faltam  10\n",
            "C  rodou por  2  timeslice, faltam  10\n",
            "D  rodou por  2  timeslice, faltam  10\n",
            "E  rodou por  2  timeslice, faltam  10\n",
            "A  rodou por  2  timeslice, faltam  8\n",
            "B  rodou por  2  timeslice, faltam  8\n",
            "C  rodou por  2  timeslice, faltam  8\n",
            "D  rodou por  2  timeslice, faltam  8\n",
            "E  rodou por  2  timeslice, faltam  8\n",
            "A  rodou por  2  timeslice, faltam  6\n",
            "B  rodou por  2  timeslice, faltam  6\n",
            "C  rodou por  2  timeslice, faltam  6\n",
            "D  rodou por  2  timeslice, faltam  6\n",
            "E  rodou por  2  timeslice, faltam  6\n",
            "A  rodou por  2  timeslice, faltam  4\n",
            "B  rodou por  2  timeslice, faltam  4\n",
            "C  rodou por  2  timeslice, faltam  4\n",
            "D  rodou por  2  timeslice, faltam  4\n",
            "E  rodou por  2  timeslice, faltam  4\n",
            "A  rodou por  2  timeslice, faltam  2\n",
            "B  rodou por  2  timeslice, faltam  2\n",
            "C  rodou por  2  timeslice, faltam  2\n",
            "D  rodou por  2  timeslice, faltam  2\n",
            "E  rodou por  2  timeslice, faltam  2\n",
            "A  rodou por  2  timeslice, faltam  0\n",
            "B  rodou por  2  timeslice, faltam  0\n",
            "C  rodou por  2  timeslice, faltam  0\n",
            "D  rodou por  2  timeslice, faltam  0\n",
            "E  rodou por  2  timeslice, faltam  0\n",
            "\n",
            "--- Métricas por Processo ---\n",
            "A -> Resposta: 0, Espera: 72, Execução: 92\n",
            "B -> Resposta: 2, Espera: 74, Execução: 94\n",
            "C -> Resposta: 4, Espera: 76, Execução: 96\n",
            "D -> Resposta: 6, Espera: 78, Execução: 98\n",
            "E -> Resposta: 8, Espera: 80, Execução: 100\n",
            "\n",
            "Tempo médio de resposta: 4.00\n",
            "Tempo médio de espera:   76.00\n",
            "Tempo médio de execução: 96.00\n"
          ]
        },
        {
          "data": {
            "text/plain": [
              "({'A': 0, 'B': 2, 'C': 4, 'D': 6, 'E': 8},\n",
              " {'A': 72, 'B': 74, 'C': 76, 'D': 78, 'E': 80},\n",
              " {'A': 92, 'B': 94, 'C': 96, 'D': 98, 'E': 100})"
            ]
          },
          "execution_count": 16,
          "metadata": {},
          "output_type": "execute_result"
        }
      ],
      "source": [
        "# Setup dos processos\n",
        "nomes = ['A', 'B', 'C', 'D', 'E']\n",
        "tamanho = [20] * 5\n",
        "chanceio = [0] * 5\n",
        "procs = [Processo(nomes[i], chanceio[i], tamanho[i], 0, 0) for i in range(5)]\n",
        "\n",
        "# Simulação Round Robin\n",
        "rr = EscalonadorRR(procs.copy(), quantum=2)\n",
        "simular(rr, procs.copy(), usa_quantum=True)"
      ]
    },
    {
      "cell_type": "markdown",
      "metadata": {},
      "source": [
        "---\n",
        "\n",
        "# Questionário 02\n",
        "\n",
        "Dado um workload com 4 processos de tamanhos 10, 20, 30 e 40, qual o tempo de execução do escalonador FIFO?\n",
        "\n",
        "Dado um workload com 4 processos de tamanhos 10, 20, 30 e 40, qual o tempo de resposta do escalonador FIFO?\n",
        "\n"
      ]
    },
    {
      "cell_type": "code",
      "execution_count": 17,
      "metadata": {},
      "outputs": [
        {
          "name": "stdout",
          "output_type": "stream",
          "text": [
            "A  rodou por  10  timeslice, faltam  0\n",
            "B  rodou por  20  timeslice, faltam  0\n",
            "C  rodou por  30  timeslice, faltam  0\n",
            "D  rodou por  40  timeslice, faltam  0\n",
            "\n",
            "--- Métricas por Processo ---\n",
            "A -> Resposta: 0, Espera: 0, Execução: 10\n",
            "B -> Resposta: 10, Espera: 10, Execução: 30\n",
            "C -> Resposta: 30, Espera: 30, Execução: 60\n",
            "D -> Resposta: 60, Espera: 60, Execução: 100\n",
            "\n",
            "Tempo médio de resposta: 25.00\n",
            "Tempo médio de espera:   25.00\n",
            "Tempo médio de execução: 50.00\n"
          ]
        },
        {
          "data": {
            "text/plain": [
              "({'A': 0, 'B': 10, 'C': 30, 'D': 60},\n",
              " {'A': 0, 'B': 10, 'C': 30, 'D': 60},\n",
              " {'A': 10, 'B': 30, 'C': 60, 'D': 100})"
            ]
          },
          "execution_count": 17,
          "metadata": {},
          "output_type": "execute_result"
        }
      ],
      "source": [
        "nomes = ['A', 'B', 'C', 'D']\n",
        "tamanho = [10,20,30,40]\n",
        "chanceio = [0] * 4\n",
        "procs = [Processo(nomes[i], chanceio[i], tamanho[i], 0, 0) for i in range(4)]\n",
        "\n",
        "# Simulação FIFO\n",
        "fifo2 = EscalonadorFIFO(procs.copy())\n",
        "simular(fifo2, procs.copy(), usa_quantum=False)"
      ]
    },
    {
      "cell_type": "markdown",
      "metadata": {},
      "source": [
        "---\n",
        "\n",
        "Dado um workload com 4 processos de tamanhos 10, 20, 30 e 40, qual o tempo de execução do escalonador SJF?\n",
        "\n",
        "Dado um workload com 4 processos de tamanhos 10, 20, 30 e 40, qual o tempo de resposta do escalonador SJF?\n",
        "\n"
      ]
    },
    {
      "cell_type": "code",
      "execution_count": 48,
      "metadata": {},
      "outputs": [
        {
          "name": "stdout",
          "output_type": "stream",
          "text": [
            "A  rodou por  10  timeslice, faltam  0\n",
            "B  rodou por  20  timeslice, faltam  0\n",
            "C  rodou por  30  timeslice, faltam  0\n",
            "D  rodou por  40  timeslice, faltam  0\n",
            "\n",
            "--- Métricas por Processo ---\n",
            "A -> Resposta: 0, Espera: 0, Execução: 10\n",
            "B -> Resposta: 10, Espera: 10, Execução: 30\n",
            "C -> Resposta: 30, Espera: 30, Execução: 60\n",
            "D -> Resposta: 60, Espera: 60, Execução: 100\n",
            "\n",
            "Tempo médio de resposta: 25.00\n",
            "Tempo médio de espera:   25.00\n",
            "Tempo médio de execução: 50.00\n"
          ]
        },
        {
          "data": {
            "text/plain": [
              "({'A': 0, 'B': 10, 'C': 30, 'D': 60},\n",
              " {'A': 0, 'B': 10, 'C': 30, 'D': 60},\n",
              " {'A': 10, 'B': 30, 'C': 60, 'D': 100})"
            ]
          },
          "execution_count": 48,
          "metadata": {},
          "output_type": "execute_result"
        }
      ],
      "source": [
        "nomes = ['A', 'B', 'C', 'D']\n",
        "tamanho = [10,20,30,40]\n",
        "chanceio = [0] * 4\n",
        "procs = [Processo(nomes[i], chanceio[i], tamanho[i], 0, 0) for i in range(4)]\n",
        "\n",
        "sjf2 = EscalonadorSJF(procs.copy())\n",
        "simular(sjf2, procs.copy(), usa_quantum=False)"
      ]
    },
    {
      "cell_type": "markdown",
      "metadata": {},
      "source": [
        "---\n",
        "\n",
        "Dado um workload com 4 processos de tamanhos 10, 20, 30 e 40, qual o tempo de execução do escalonador Round Robin com quantum=2?\n",
        "\n",
        "Dado um workload com 4 processos de tamanhos 10, 20, 30 e 40, qual o tempo de resposta do escalonador Round Robin com quantum=2?\n",
        "\n"
      ]
    },
    {
      "cell_type": "code",
      "execution_count": 49,
      "metadata": {},
      "outputs": [
        {
          "name": "stdout",
          "output_type": "stream",
          "text": [
            "A  rodou por  2  timeslice, faltam  8\n",
            "B  rodou por  2  timeslice, faltam  18\n",
            "C  rodou por  2  timeslice, faltam  28\n",
            "D  rodou por  2  timeslice, faltam  38\n",
            "A  rodou por  2  timeslice, faltam  6\n",
            "B  rodou por  2  timeslice, faltam  16\n",
            "C  rodou por  2  timeslice, faltam  26\n",
            "D  rodou por  2  timeslice, faltam  36\n",
            "A  rodou por  2  timeslice, faltam  4\n",
            "B  rodou por  2  timeslice, faltam  14\n",
            "C  rodou por  2  timeslice, faltam  24\n",
            "D  rodou por  2  timeslice, faltam  34\n",
            "A  rodou por  2  timeslice, faltam  2\n",
            "B  rodou por  2  timeslice, faltam  12\n",
            "C  rodou por  2  timeslice, faltam  22\n",
            "D  rodou por  2  timeslice, faltam  32\n",
            "A  rodou por  2  timeslice, faltam  0\n",
            "B  rodou por  2  timeslice, faltam  10\n",
            "C  rodou por  2  timeslice, faltam  20\n",
            "D  rodou por  2  timeslice, faltam  30\n",
            "B  rodou por  2  timeslice, faltam  8\n",
            "C  rodou por  2  timeslice, faltam  18\n",
            "D  rodou por  2  timeslice, faltam  28\n",
            "B  rodou por  2  timeslice, faltam  6\n",
            "C  rodou por  2  timeslice, faltam  16\n",
            "D  rodou por  2  timeslice, faltam  26\n",
            "B  rodou por  2  timeslice, faltam  4\n",
            "C  rodou por  2  timeslice, faltam  14\n",
            "D  rodou por  2  timeslice, faltam  24\n",
            "B  rodou por  2  timeslice, faltam  2\n",
            "C  rodou por  2  timeslice, faltam  12\n",
            "D  rodou por  2  timeslice, faltam  22\n",
            "B  rodou por  2  timeslice, faltam  0\n",
            "C  rodou por  2  timeslice, faltam  10\n",
            "D  rodou por  2  timeslice, faltam  20\n",
            "C  rodou por  2  timeslice, faltam  8\n",
            "D  rodou por  2  timeslice, faltam  18\n",
            "C  rodou por  2  timeslice, faltam  6\n",
            "D  rodou por  2  timeslice, faltam  16\n",
            "C  rodou por  2  timeslice, faltam  4\n",
            "D  rodou por  2  timeslice, faltam  14\n",
            "C  rodou por  2  timeslice, faltam  2\n",
            "D  rodou por  2  timeslice, faltam  12\n",
            "C  rodou por  2  timeslice, faltam  0\n",
            "D  rodou por  2  timeslice, faltam  10\n",
            "D  rodou por  2  timeslice, faltam  8\n",
            "D  rodou por  2  timeslice, faltam  6\n",
            "D  rodou por  2  timeslice, faltam  4\n",
            "D  rodou por  2  timeslice, faltam  2\n",
            "D  rodou por  2  timeslice, faltam  0\n",
            "\n",
            "--- Métricas por Processo ---\n",
            "A -> Resposta: 0, Espera: 24, Execução: 34\n",
            "B -> Resposta: 2, Espera: 46, Execução: 66\n",
            "C -> Resposta: 4, Espera: 58, Execução: 88\n",
            "D -> Resposta: 6, Espera: 60, Execução: 100\n",
            "\n",
            "Tempo médio de resposta: 3.00\n",
            "Tempo médio de espera:   47.00\n",
            "Tempo médio de execução: 72.00\n"
          ]
        },
        {
          "data": {
            "text/plain": [
              "({'A': 0, 'B': 2, 'C': 4, 'D': 6},\n",
              " {'A': 24, 'B': 46, 'C': 58, 'D': 60},\n",
              " {'A': 34, 'B': 66, 'C': 88, 'D': 100})"
            ]
          },
          "execution_count": 49,
          "metadata": {},
          "output_type": "execute_result"
        }
      ],
      "source": [
        "nomes = ['A', 'B', 'C', 'D']\n",
        "tamanho = [10,20,30,40]\n",
        "chanceio = [0] * 4\n",
        "procs = [Processo(nomes[i], chanceio[i], tamanho[i], 0, 0) for i in range(4)]\n",
        "\n",
        "# Simulação Round Robin\n",
        "rr2 = EscalonadorRR(procs.copy(), quantum=2)\n",
        "simular(rr2, procs.copy(), usa_quantum=True)"
      ]
    }
  ],
  "metadata": {
    "colab": {
      "name": "Laboratório Escalonamento.ipynb",
      "provenance": []
    },
    "kernelspec": {
      "display_name": "SO",
      "language": "python",
      "name": "python3"
    },
    "language_info": {
      "codemirror_mode": {
        "name": "ipython",
        "version": 3
      },
      "file_extension": ".py",
      "mimetype": "text/x-python",
      "name": "python",
      "nbconvert_exporter": "python",
      "pygments_lexer": "ipython3",
      "version": "3.12.3"
    }
  },
  "nbformat": 4,
  "nbformat_minor": 0
}
